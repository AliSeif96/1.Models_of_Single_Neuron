{
 "cells": [
  {
   "cell_type": "code",
   "execution_count": 3,
   "metadata": {},
   "outputs": [],
   "source": [

   ]
  },
 {
   "cell_type": "markdown",
   "metadata": {},
   "source": [
    "# Chapter 5\n",
    "## Three Simple Models of Neurons in Rodent Brains\n",
    "- Code by : [Abolfazl Ziaeemehr](https://github.com/Ziaeemehr)",
    "### Wang-Buzs´aki Model of an Inhibitory Interneuron in Rat Hippocampus"
   ]
  },
  {
   "cell_type": "code",
   "execution_count": 4,
   "metadata": {},
   "outputs": [],
   "source": [
    "def plot_data(state_monitor, title=None, c='k'):\n",
    "    \"\"\"Plots the state_monitor variables \"vm\" vs. time.\n",
    "\n",
    "    Args:\n",
    "        state_monitor (StateMonitor): the data to plot\n",
    "        title (string, optional): plot title to display\n",
    "    \"\"\"\n",
    "\n",
    "    fig, ax = plt.subplots(1, figsize=(10, 3))\n",
    "\n",
    "    ax.plot(state_monitor.t / b2.ms, state_monitor.vm[0] / b2.mV, lw=2, c=c)\n",
    "\n",
    "    ax.set_xlabel(\"t [ms]\")\n",
    "    ax.set_ylabel(\"v [mV]\")\n",
    "\n",
    "    plt.axis((\n",
    "        0,\n",
    "        np.max(state_monitor.t / b2.ms),\n",
    "        -100, 50))\n",
    "\n",
    "    if title is not None:\n",
    "        ax.set_title(title)\n",
    "\n",
    "    plt.show();"
   ]
  },
  {
   "cell_type": "code",
   "execution_count": 5,
   "metadata": {},
   "outputs": [
    {
     "data": {
      "image/png": "[encoded data removed]",
      "text/plain": [
       "<Figure size 720x216 with 1 Axes>"
      ]
     },
     "metadata": {
      "needs_background": "light"
     },
     "output_type": "display_data"
    }
   ],
   "source": [
    "import brian2 as b2\n",
    "import matplotlib.pyplot as plt\n",
    "import numpy as np\n",
    "import neurodynex3.tools.input_factory as input_factory\n",
    "from numpy import exp\n",
    "\n",
    "\n",
    "def simulate_WB_neuron(input_current, simulation_time):\n",
    "\n",
    "    \"\"\"A Wang-Buszaki neuron implemented in Brian2.\n",
    "\n",
    "    Args:\n",
    "        input_current (TimedArray): Input current injected into the HH neuron\n",
    "        simulation_time (float): Simulation time [seconds]\n",
    "\n",
    "    Returns:\n",
    "        StateMonitor: Brian2 StateMonitor with recorded fields\n",
    "        [\"vm\", \"I_e\", \"n\", \"h\"]\n",
    "    \"\"\"\n",
    "\n",
    "    # neuron parameters\n",
    "    El = -65 * b2.mV\n",
    "    EK = -90 * b2.mV\n",
    "    ENa = 55 * b2.mV\n",
    "    gl = 0.1 * b2.msiemens\n",
    "    gK = 9 * b2.msiemens\n",
    "    gNa = 35 * b2.msiemens\n",
    "    C = 1 * b2.ufarad\n",
    "\n",
    "    # forming WB model with differential equations\n",
    "    eqs = \"\"\"\n",
    "    I_e = input_current(t,i) : amp\n",
    "    \n",
    "    alphah = 0.35 * exp(-(vm + 58.0*mV) / (20.0*mV))/ms :Hz\n",
    "    alpham = 0.1/mV * (vm + 35.0*mV) / (1.0 - exp(-0.1/mV * (vm + 35.0*mV))) /ms :Hz\n",
    "    alphan = -0.05/mV * (vm + 34.0*mV) / (exp(-0.1/mV * (vm + 34.0*mV)) - 1.0)/ms :Hz\n",
    "    \n",
    "    betah = 5.0 / (exp(-0.1/mV * (vm + 28.0*mV)) + 1.0)/ms :Hz\n",
    "    betam = 4.0 * exp(-(vm + 60.0*mV) / (18.0*mV))/ms :Hz\n",
    "    betan = 0.625 * exp(-(vm + 44.0*mV) / (80.0*mV))/ms :Hz\n",
    "    \n",
    "    m_inf = alpham / (alpham + betam) : 1\n",
    "    \n",
    "    membrane_Im = I_e + gNa*m_inf**3*h*(ENa-vm) + \\\n",
    "        gl*(El-vm) + gK*n**4*(EK-vm) : amp\n",
    "    \n",
    "    dn/dt = alphan*(1-n)-betan*n : 1\n",
    "    dh/dt = alphah*(1-h)-betah*h : 1\n",
    "    \n",
    "    dvm/dt = membrane_Im/C : volt\n",
    "    \"\"\"\n",
    "    \n",
    "    neuron = b2.NeuronGroup(1, eqs, method=\"rk4\", dt=0.05*b2.ms)\n",
    "\n",
    "    \n",
    "    neuron.vm = -63*b2.mV\n",
    "    neuron.h = \"alphah / (alphah + betah)\"\n",
    "    neuron.n = \"alphan / (alphan + betan)\"\n",
    "\n",
    "    # tracking parameters\n",
    "    st_mon = b2.StateMonitor(neuron, [\"vm\", \"I_e\", \"n\", \"h\"], record=True)\n",
    "\n",
    "    # running the simulation\n",
    "    hh_net = b2.Network(neuron)\n",
    "    hh_net.add(st_mon)\n",
    "    hh_net.run(simulation_time)\n",
    "\n",
    "    return st_mon\n",
    "\n",
    "current = input_factory.get_step_current(0, 101, b2.ms, 0.75 * b2.uA)\n",
    "state_monitor = simulate_WB_neuron(current, 101 * b2.ms)\n",
    "plot_data(state_monitor, title=\"WB Neuron\")"
   ]
  },
  {
   "cell_type": "code",
   "execution_count": null,
   "metadata": {},
   "outputs": [],
   "source": []
  }
 ],
 "metadata": {
  "kernelspec": {
   "display_name": "Python 3",
   "language": "python",
   "name": "python3"
  },
  "language_info": {
   "codemirror_mode": {
    "name": "ipython",
    "version": 3
   },
   "file_extension": ".py",
   "mimetype": "text/x-python",
   "name": "python",
   "nbconvert_exporter": "python",
   "pygments_lexer": "ipython3",
   "version": "3.7.3"
  }
 },
 "nbformat": 4,
 "nbformat_minor": 2
}
